{
 "cells": [
  {
   "cell_type": "markdown",
   "metadata": {},
   "source": [
    "## python syntax\n",
    "![badge1](PythonSyntax.png)"
   ]
  },
  {
   "cell_type": "markdown",
   "metadata": {},
   "source": [
    "## Strings and Output Console\n",
    "![badge1](stringsandconsole.png)\n",
    "    accidentally exited out of the badge before I could screenshot\n",
    "    \n",
    "Date and Time:\n",
    "![badge1](StringsConsoleDateTime.png)"
   ]
  },
  {
   "cell_type": "markdown",
   "metadata": {},
   "source": [
    "## Conditionals and Control Flow\n",
    "![badge1](conditionalsandcontrol.png)\n",
    "    didn't show me a badge\n",
    "![badge1](ConditionalFlowPyg.png)"
   ]
  },
  {
   "cell_type": "markdown",
   "metadata": {},
   "source": [
    "## Functions\n",
    "![badge1](functions.png)"
   ]
  },
  {
   "cell_type": "markdown",
   "metadata": {},
   "source": [
    "## Lists and Dictionaries\n",
    "![badge1](listanddict.png)"
   ]
  },
  {
   "cell_type": "markdown",
   "metadata": {},
   "source": [
    "## Lists and Functions\n",
    "![badge1](listfunctions.png)"
   ]
  },
  {
   "cell_type": "markdown",
   "metadata": {},
   "source": [
    "## Loops\n",
    "![badge1](loops.png)"
   ]
  },
  {
   "cell_type": "markdown",
   "metadata": {},
   "source": [
    "## Practice Makes Perfect\n",
    "![badge1](practiceperfect.png)"
   ]
  },
  {
   "cell_type": "markdown",
   "metadata": {
    "collapsed": true
   },
   "source": [
    "# PART 2\n",
    "\n",
    "#### Pseudocode:\n",
    "\n",
    "store the translation sequence into a dictionary\n",
    "create a function that will look at a DNA sequence and return the protein sequence\n",
    "create an empty string that serves as the protein sequence at the beginning of the loop to hold the amino acids\n",
    "set the length of a codon to 3 and set the range of the loop-- last codon should end 3 letters from the end of the sequence\n",
    "change the dna sequence to uppercase to match the translation sequences in the dictionary\n",
    "if base in the dna sequence is unknown, set a default character for it in the protein sequence."
   ]
  },
  {
   "cell_type": "code",
   "execution_count": 1,
   "metadata": {
    "collapsed": true
   },
   "outputs": [],
   "source": [
    "gencode = {\n",
    "'ATA':'I', 'ATC':'I', 'ATT':'I', 'ATG':'M',\n",
    "'ACA':'T', 'ACC':'T', 'ACG':'T', 'ACT':'T',\n",
    "'AAC':'N', 'AAT':'N', 'AAA':'K', 'AAG':'K',\n",
    "'AGC':'S', 'AGT':'S', 'AGA':'R', 'AGG':'R',\n",
    "'CTA':'L', 'CTC':'L', 'CTG':'L', 'CTT':'L',\n",
    "'CCA':'P', 'CCC':'P', 'CCG':'P', 'CCT':'P',\n",
    "'CAC':'H', 'CAT':'H', 'CAA':'Q', 'CAG':'Q',\n",
    "'CGA':'R', 'CGC':'R', 'CGG':'R', 'CGT':'R',\n",
    "'GTA':'V', 'GTC':'V', 'GTG':'V', 'GTT':'V',\n",
    "'GCA':'A', 'GCC':'A', 'GCG':'A', 'GCT':'A',\n",
    "'GAC':'D', 'GAT':'D', 'GAA':'E', 'GAG':'E',\n",
    "'GGA':'G', 'GGC':'G', 'GGG':'G', 'GGT':'G',\n",
    "'TCA':'S', 'TCC':'S', 'TCG':'S', 'TCT':'S',\n",
    "'TTC':'F', 'TTT':'F', 'TTA':'L', 'TTG':'L',\n",
    "'TAC':'Y', 'TAT':'Y', 'TAA':'_', 'TAG':'_',\n",
    "'TGC':'C', 'TGT':'C', 'TGA':'_', 'TGG':'W'}"
   ]
  },
  {
   "cell_type": "code",
   "execution_count": 2,
   "metadata": {
    "collapsed": true
   },
   "outputs": [],
   "source": [
    "def translate_dna(dna): \n",
    "    last_codon_start = len(dna) - 2 \n",
    "    protein = \"\" \n",
    "    for start in range(0,last_codon_start,3): \n",
    "        codon = dna[start:start+3] \n",
    "        aa = gencode.get(codon.upper(), 'X') \n",
    "        protein = protein + aa \n",
    "    return protein "
   ]
  },
  {
   "cell_type": "code",
   "execution_count": 3,
   "metadata": {
    "collapsed": false,
    "scrolled": true
   },
   "outputs": [
    {
     "name": "stdout",
     "output_type": "stream",
     "text": [
      "MFG\n",
      "IDRSLLIDQ\n",
      "TDRSLLTYR\n",
      "TIDRXVRSYS\n"
     ]
    }
   ],
   "source": [
    "print(translate_dna(\"ATGTTCGGT\")) \n",
    "print(translate_dna(\"ATCGATCGATCGTTGCTTATCGATCAG\")) \n",
    "print(translate_dna(\"actgatcgtagcttgcttacgtatcgtat\")) \n",
    "print(translate_dna(\"ACGATCGATCGTNACGTACGATCGTACTCG\")) "
   ]
  },
  {
   "cell_type": "markdown",
   "metadata": {},
   "source": [
    "# Part 3 Allesina"
   ]
  },
  {
   "cell_type": "code",
   "execution_count": 1,
   "metadata": {
    "collapsed": false
   },
   "outputs": [],
   "source": [
    "import scipy\n",
    "def build_population(N, p):\n",
    "    population = []\n",
    "    for i in range(N):\n",
    "        allele1 = \"A\"\n",
    "        if scipy.random.rand() > p:\n",
    "            allele1 = \"a\"\n",
    "        allele2 = \"A\"\n",
    "        if scipy.random.rand() > p:\n",
    "            allele2 = \"a\"\n",
    "        population.append((allele1, allele2))\n",
    "    return population"
   ]
  },
  {
   "cell_type": "code",
   "execution_count": 2,
   "metadata": {
    "collapsed": false,
    "scrolled": true
   },
   "outputs": [
    {
     "data": {
      "text/plain": [
       "[('A', 'a'),\n",
       " ('A', 'A'),\n",
       " ('A', 'A'),\n",
       " ('A', 'a'),\n",
       " ('a', 'A'),\n",
       " ('A', 'A'),\n",
       " ('A', 'a'),\n",
       " ('A', 'a'),\n",
       " ('A', 'A'),\n",
       " ('A', 'a')]"
      ]
     },
     "execution_count": 2,
     "metadata": {},
     "output_type": "execute_result"
    }
   ],
   "source": [
    "build_population(10, 0.7)"
   ]
  },
  {
   "cell_type": "code",
   "execution_count": 3,
   "metadata": {
    "collapsed": false
   },
   "outputs": [],
   "source": [
    "def compute_frequencies(population):\n",
    "    AA = population.count(('A', 'A'))\n",
    "    Aa = population.count(('A', 'a'))\n",
    "    aA = population.count(('a', 'A'))\n",
    "    aa = population.count(('a', 'a'))\n",
    "    return({'AA': AA,'aa': aa,'Aa': Aa,'aA': aA})"
   ]
  },
  {
   "cell_type": "code",
   "execution_count": 4,
   "metadata": {
    "collapsed": false,
    "scrolled": true
   },
   "outputs": [
    {
     "data": {
      "text/plain": [
       "[('a', 'a'), ('A', 'A'), ('a', 'a'), ('a', 'A'), ('A', 'a'), ('A', 'A')]"
      ]
     },
     "execution_count": 4,
     "metadata": {},
     "output_type": "execute_result"
    }
   ],
   "source": [
    "my_pop = build_population(6, 0.5)\n",
    "my_pop"
   ]
  },
  {
   "cell_type": "code",
   "execution_count": 5,
   "metadata": {
    "collapsed": false
   },
   "outputs": [
    {
     "data": {
      "text/plain": [
       "{'AA': 2, 'Aa': 1, 'aA': 1, 'aa': 2}"
      ]
     },
     "execution_count": 5,
     "metadata": {},
     "output_type": "execute_result"
    }
   ],
   "source": [
    "compute_frequencies(my_pop)"
   ]
  },
  {
   "cell_type": "code",
   "execution_count": 6,
   "metadata": {
    "collapsed": false
   },
   "outputs": [],
   "source": [
    "def reproduce_population(population):\n",
    "# Create a new generation through sexual reproduction\n",
    "# For each of N new offspring:\n",
    "# - Choose the parents at random\n",
    "# - The offspring receives a chromosomes from each of\n",
    "# the parents\n",
    "\n",
    "    new_generation = []\n",
    "    N = len(population)\n",
    "    for i in range(N):\n",
    "        dad = scipy.random.randint(N) # random integer between 0 and N-1\n",
    "        mom = scipy.random.randint(N)\n",
    "        chr_mom = scipy.random.randint(2) # which chromosome comes from mom\n",
    "        offspring = (population[mom][chr_mom], population[dad][1 - chr_mom])\n",
    "        new_generation.append(offspring)\n",
    "    return(new_generation)"
   ]
  },
  {
   "cell_type": "code",
   "execution_count": 7,
   "metadata": {
    "collapsed": false
   },
   "outputs": [
    {
     "data": {
      "text/plain": [
       "[('A', 'A'), ('a', 'a'), ('A', 'a'), ('A', 'A'), ('a', 'a'), ('a', 'a')]"
      ]
     },
     "execution_count": 7,
     "metadata": {},
     "output_type": "execute_result"
    }
   ],
   "source": [
    "reproduce_population(my_pop)"
   ]
  },
  {
   "cell_type": "code",
   "execution_count": 3,
   "metadata": {
    "collapsed": false,
    "scrolled": true
   },
   "outputs": [],
   "source": [
    "import drift\n"
   ]
  },
  {
   "cell_type": "code",
   "execution_count": 4,
   "metadata": {
    "collapsed": false
   },
   "outputs": [],
   "source": [
    "def simulate_drift(N, p):\n",
    "    # initialize the population\n",
    "    my_pop = drift.build_population(N, p)\n",
    "    fixation = False\n",
    "    num_generations = 0\n",
    "    while fixation == False:\n",
    "        # compute genotype counts\n",
    "        genotype_counts = drift.compute_frequencies(my_pop)\n",
    "        # if one allele went to fixation, end the simulation\n",
    "        if genotype_counts['AA'] == N or genotype_counts['aa'] == N:\n",
    "            print(\"An allele reached fixation at generation\", num_generations)\n",
    "            print(\"The genotype counts are \")\n",
    "            print(genotype_counts)\n",
    "            fixation == True\n",
    "            break\n",
    "        # if not, reproduce\n",
    "        my_pop = drift.reproduce_population(my_pop)\n",
    "        num_generations = num_generations + 1"
   ]
  },
  {
   "cell_type": "code",
   "execution_count": 5,
   "metadata": {
    "collapsed": false
   },
   "outputs": [
    {
     "name": "stdout",
     "output_type": "stream",
     "text": [
      "An allele reached fixation at generation 49\n",
      "The genotype counts are \n",
      "{'Aa': 0, 'AA': 100, 'aa': 0, 'aA': 0}\n"
     ]
    }
   ],
   "source": [
    "simulate_drift(100, 0.9)"
   ]
  },
  {
   "cell_type": "markdown",
   "metadata": {},
   "source": [
    "### 4.9.1 Part1"
   ]
  },
  {
   "cell_type": "code",
   "execution_count": 9,
   "metadata": {
    "collapsed": true
   },
   "outputs": [],
   "source": [
    "def calcmean(Taxon):\n",
    "    r=[]\n",
    "    jiangfile = open(\"reformattedjiang.csv\", \"r\", encoding = \"ISO-8859-15\")\n",
    "    jiangrecord = jiangfile.readlines()[1:]\n",
    "    \n",
    "    for line in jiangrecord:\n",
    "        jiangelements = line.split(\",\")\n",
    "        if len(jiangelements)== 6: \n",
    "            if jiangelements[1] == Taxon:\n",
    "                r.append(float(jiangelements[3]))\n",
    "    jiangmean=(sum(r)/len(r))  \n",
    "    return jiangmean"
   ]
  },
  {
   "cell_type": "code",
   "execution_count": 10,
   "metadata": {
    "collapsed": false
   },
   "outputs": [
    {
     "data": {
      "text/plain": [
       "0.39719005173783783"
      ]
     },
     "execution_count": 10,
     "metadata": {},
     "output_type": "execute_result"
    }
   ],
   "source": [
    "calcmean(\"Fish\")"
   ]
  },
  {
   "cell_type": "markdown",
   "metadata": {},
   "source": [
    "### 4.9.1 Part2"
   ]
  },
  {
   "cell_type": "code",
   "execution_count": 13,
   "metadata": {
    "collapsed": true
   },
   "outputs": [],
   "source": [
    "def randsample(numsamples):\n",
    "    from random import randint\n",
    "    jiangfile = open(\"reformattedjiang.csv\", \"r\", encoding = \"ISO-8859-15\")\n",
    "    jiangrecord = jiangfile.readlines()[1:]\n",
    "    #want to get a list of the rows to look in\n",
    "    rows = []\n",
    "    for getline in range(numsamples):\n",
    "        rows.append(randint(0,(len(jiangrecord)-1)))\n",
    "    rvals = []\n",
    "    for rowposition in rows:\n",
    "        for line in jiangrecord:\n",
    "            rowposition = line.split(\",\")\n",
    "            if len(rowposition)==6:\n",
    "                rvals.append(float(rowposition[3]))\n",
    "    meansample = sum(rvals)/len(rvals)\n",
    "    return meansample\n",
    "            "
   ]
  },
  {
   "cell_type": "code",
   "execution_count": 19,
   "metadata": {
    "collapsed": false
   },
   "outputs": [
    {
     "data": {
      "text/plain": [
       "0.27182889423378426"
      ]
     },
     "execution_count": 19,
     "metadata": {},
     "output_type": "execute_result"
    }
   ],
   "source": [
    "randsample(37)"
   ]
  },
  {
   "cell_type": "markdown",
   "metadata": {},
   "source": []
  },
  {
   "cell_type": "code",
   "execution_count": null,
   "metadata": {
    "collapsed": true
   },
   "outputs": [],
   "source": []
  }
 ],
 "metadata": {
  "anaconda-cloud": {},
  "kernelspec": {
   "display_name": "Python [conda root]",
   "language": "python",
   "name": "conda-root-py"
  },
  "language_info": {
   "codemirror_mode": {
    "name": "ipython",
    "version": 3
   },
   "file_extension": ".py",
   "mimetype": "text/x-python",
   "name": "python",
   "nbconvert_exporter": "python",
   "pygments_lexer": "ipython3",
   "version": "3.5.2"
  }
 },
 "nbformat": 4,
 "nbformat_minor": 2
}
