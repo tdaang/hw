{
 "cells": [
  {
   "cell_type": "code",
   "execution_count": 2,
   "metadata": {
    "collapsed": false,
    "scrolled": true
   },
   "outputs": [
    {
     "name": "stdout",
     "output_type": "stream",
     "text": [
      "tCTGtTCGtTTtCGTtTtGTtTTTGCTtTCtTtCtTtTtTtTCGtTGCGTTCtT\n",
      "tCaGtaCGtaatCGatatGataaaGCataCtatCtatatataCGtaGCGaaCta\n",
      "tgaGtagGtaatgGatatGataaaGgatagtatgtatatatagGtaGgGaagta\n",
      "tgactagctaatgcatatcataaacgatagtatgtatatatagctacgcaagta\n",
      "TGACTAGCTAATGCATATCATAAACGATAGTATGTATATATAGCTACGCAAGTA\n"
     ]
    }
   ],
   "source": [
    "# complementing DNA\n",
    "mydna = \"ACTGATCGATTACGTATAGTATTTGCTATCATACATATATATCGATGCGTTCAT\"\n",
    "replace1 = mydna.replace('A', 't')\n",
    "print (replace1)\n",
    "replace2 = replace1.replace('T', 'a')\n",
    "print(replace2)\n",
    "replace3 = replace2.replace('C', 'g')\n",
    "print(replace3)\n",
    "replace4 = replace3.replace('G', 'c')\n",
    "print(replace4)\n",
    "print(replace4.upper())\n"
   ]
  },
  {
   "cell_type": "code",
   "execution_count": 5,
   "metadata": {
    "collapsed": false,
    "scrolled": true
   },
   "outputs": [
    {
     "name": "stdout",
     "output_type": "stream",
     "text": [
      "length of fragment one is 22\n",
      "length of fragment two is 33\n"
     ]
    }
   ],
   "source": [
    "#restriction fragment lengths\n",
    "mydna = \"ACTGATCGATTACGTATAGTAGAATTCTATCATACATATATATCGATGCGTTCAT\"\n",
    "frag1length = mydna.find(\"GAATTC\") +1\n",
    "frag2length = len(mydna) - frag1length\n",
    "print(\"length of fragment one is \" + str(frag1length))\n",
    "print(\"length of fragment two is \" + str(frag2length))"
   ]
  },
  {
   "cell_type": "code",
   "execution_count": 7,
   "metadata": {
    "collapsed": false
   },
   "outputs": [
    {
     "name": "stdout",
     "output_type": "stream",
     "text": [
      "ATCGATCGATCGATCGACTGACTAGTCATAGCTATGCATGTAGCTACTCGATCGATCGATCGATCATCGATCGATATCGATGCATCGACTACTAT\n"
     ]
    }
   ],
   "source": [
    "#splicing out introns, part one\n",
    "my_dna = \"ATCGATCGATCGATCGACTGACTAGTCATAGCTATGCATGTAGCTACTCGATCGATCGATCGATCGATCGATCGATCGATCGATCATGCTATCATCGATCGATATCGATGCATCGACTACTAT\"\n",
    "exon1 = my_dna[0:62]\n",
    "exon2 = my_dna[90:10000]\n",
    "print(exon1 + exon2)"
   ]
  },
  {
   "cell_type": "code",
   "execution_count": 3,
   "metadata": {
    "collapsed": false,
    "scrolled": true
   },
   "outputs": [
    {
     "name": "stdout",
     "output_type": "stream",
     "text": [
      "77.23577235772358\n"
     ]
    }
   ],
   "source": [
    "#Splicing out introns part 2\n",
    "my_dna = \"ATCGATCGATCGATCGACTGACTAGTCATAGCTATGCATGTAGCTACTCGATCGATCGATCGATCGATCGATCGATCGATCGATCATGCTATCATCGATCGATATCGATGCATCGACTACTAT\"\n",
    "exon1 = my_dna[0:62]\n",
    "exon2 = my_dna[90:10000]\n",
    "coding_length = len(exon1 + exon2)\n",
    "total_length = len(my_dna)\n",
    "print(100 * coding_length / total_length)"
   ]
  },
  {
   "cell_type": "code",
   "execution_count": 8,
   "metadata": {
    "collapsed": false
   },
   "outputs": [
    {
     "name": "stdout",
     "output_type": "stream",
     "text": [
      "ATCGATCGATCGATCGACTGACTAGTCATAGCTATGCATGTAGCTACTCGATCGATCGATCGatcgatcgatcgatcgatcgatcatgctATCATCGATCGATATCGATGCATCGACTACTAT\n"
     ]
    }
   ],
   "source": [
    "#splicing out introns, part 3\n",
    "my_dna = \"ATCGATCGATCGATCGACTGACTAGTCATAGCTATGCATGTAGCTACTCGATCGATCGATCGATCGATCGATCGATCGATCGATCATGCTATCATCGATCGATATCGATGCATCGACTACTAT\"\n",
    "exon1 = my_dna[0:62]\n",
    "intron = my_dna[62:90]\n",
    "exon2 = my_dna[90:10000]\n",
    "print(my_dna[0:62] + my_dna[62:90].lower() + my_dna[90:10000])"
   ]
  },
  {
   "cell_type": "code",
   "execution_count": 3,
   "metadata": {
    "collapsed": false
   },
   "outputs": [
    {
     "data": {
      "text/plain": [
       "28"
      ]
     },
     "execution_count": 3,
     "metadata": {},
     "output_type": "execute_result"
    }
   ],
   "source": [
    "#splitting genomic DNA\n",
    "dnafile = open(\"/home/eeb177-student/Desktop/eeb-177/Chapter_3/exercises/genomic_dna.txt\")\n",
    "mydna = dnafile.read()\n",
    "exon1 = mydna[0:62]\n",
    "intron = mydna[62:90]\n",
    "exon2 = mydna[90:10000]\n",
    "coding_file = open(\"coding_dna.txt\", \"w\")\n",
    "noncoding_file = open(\"noncoding_dna.txt\", \"w\")\n",
    "coding_file.write(exon1 + exon2)\n",
    "noncoding_file.write(intron)"
   ]
  },
  {
   "cell_type": "code",
   "execution_count": 4,
   "metadata": {
    "collapsed": false
   },
   "outputs": [
    {
     "data": {
      "text/plain": [
       "33"
      ]
     },
     "execution_count": 4,
     "metadata": {},
     "output_type": "execute_result"
    }
   ],
   "source": [
    "#writing FASTA files\n",
    "header_1 = \"ABC123\"\n",
    "header_2 = \"DEF456\"\n",
    "header_3 = \"HIJ789\"\n",
    "seq_1 = \"ATCGTACGATCGATCGATCGCTAGACGTATCG\"\n",
    "seq_2 = \"actgatcgacgatcgatcgatcacgact\"\n",
    "seq_3 = \"ACTGAC-ACTGT—ACTGTA----CATGTG\"\n",
    "output = open(\"sequences.fasta\", \"w\")\n",
    "output.write('>' + header_1 + '\\n' + seq_1 + '\\n')\n",
    "output.write('>' + header_2 + '\\n' + seq_2.upper() + '\\n')\n",
    "output.write('>' + header_3 + '\\n' + seq_3.replace('-', '') + '\\n')"
   ]
  },
  {
   "cell_type": "code",
   "execution_count": 6,
   "metadata": {
    "collapsed": false
   },
   "outputs": [
    {
     "name": "stdout",
     "output_type": "stream",
     "text": [
      "processed sequence with length 43\n",
      "processed sequence with length 38\n",
      "processed sequence with length 49\n",
      "processed sequence with length 34\n",
      "processed sequence with length 48\n"
     ]
    }
   ],
   "source": [
    "#processing DNA in a file\n",
    "# open the input file \n",
    "file = open(\"/home/eeb177-student/Desktop/eeb-177/Chapter_4/exercises/input.txt\") \n",
    "# open the output file \n",
    "output = open(\"/home/eeb177-student/Desktop/eeb-177/Chapter_4/exercises/trimmed.txt\", \"w\") \n",
    "# go through the input file one line at a time \n",
    "for dna in file: \n",
    "    # calculate the position of the last character \n",
    "    last_character_position = len(dna) \n",
    "    # get the substring from the 15th character to the end \n",
    "    trimmed_dna = dna[14:last_character_position] \n",
    "    # print out the trimmed sequence \n",
    "    output.write(trimmed_dna) \n",
    "    # print out the length to the screen \n",
    "    print(\"processed sequence with length \" + str(len(trimmed_dna))) \n",
    "    "
   ]
  },
  {
   "cell_type": "code",
   "execution_count": 8,
   "metadata": {
    "collapsed": false
   },
   "outputs": [],
   "source": [
    "#multiple exons from genomic DNA\n",
    "# open the genomic dna file and read the contents \n",
    "genomic_dna = open(\"/home/eeb177-student/Desktop/eeb-177/Chapter_4/exercises/genomic_dna.txt\").read() \n",
    "# open the exons locations file \n",
    "exon_locations = open(\"/home/eeb177-student/Desktop/eeb-177/Chapter_4/exercises/exons.txt\") \n",
    "# create a variable to hold the coding sequence \n",
    "coding_sequence = \"\" \n",
    "# go through each line in the exon locations file \n",
    "for line in exon_locations: \n",
    "    # split the line using a comma \n",
    "    positions = line.split(',') \n",
    "    # get the start and stop positions \n",
    "    start = int(positions[0]) \n",
    "    stop = int(positions[1]) \n",
    "    # extract the exon from the genomic dna \n",
    "    exon = genomic_dna[start:stop] \n",
    "    # append the exon to the end of the current coding sequence \n",
    "    coding_sequence = coding_sequence + exon \n",
    "# write the coding sequence to an output file \n",
    "output = open(\"/home/eeb177-student/Desktop/eeb-177/Chapter_4/exercises/coding_sequence.txt\", \"w\") \n",
    "output.write(coding_sequence) \n",
    "output.close() "
   ]
  },
  {
   "cell_type": "code",
   "execution_count": null,
   "metadata": {
    "collapsed": true
   },
   "outputs": [],
   "source": []
  }
 ],
 "metadata": {
  "anaconda-cloud": {},
  "kernelspec": {
   "display_name": "Python [conda root]",
   "language": "python",
   "name": "conda-root-py"
  },
  "language_info": {
   "codemirror_mode": {
    "name": "ipython",
    "version": 3
   },
   "file_extension": ".py",
   "mimetype": "text/x-python",
   "name": "python",
   "nbconvert_exporter": "python",
   "pygments_lexer": "ipython3",
   "version": "3.5.2"
  }
 },
 "nbformat": 4,
 "nbformat_minor": 2
}
