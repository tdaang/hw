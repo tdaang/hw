{
 "cells": [
  {
   "cell_type": "code",
   "execution_count": null,
   "metadata": {
    "collapsed": true
   },
   "outputs": [],
   "source": []
  },
  {
   "cell_type": "markdown",
   "metadata": {},
   "source": [
    "# Function #1 -- Canids"
   ]
  },
  {
   "cell_type": "code",
   "execution_count": 50,
   "metadata": {
    "collapsed": true
   },
   "outputs": [],
   "source": [
    "def alpha_dictionary(entry):\n",
    "    species = entry.split(\",\")[5]\n",
    "    return species\n",
    "    \n",
    "    \n"
   ]
  },
  {
   "cell_type": "code",
   "execution_count": 51,
   "metadata": {
    "collapsed": false
   },
   "outputs": [],
   "source": [
    "with open(\"/home/eeb177-student/Desktop/eeb-177/class-assignments/canids/clean_canid.csv\", \"r\") as ff:\n",
    "    canid_recs = ff.readlines()[1:]\n",
    "alpha_order = sorted(canid_recs, key = alpha_dictionary)\n",
    "\n",
    "output_file = open(\"alphabetized_canids.csv\", \"w\")\n",
    "for line in alpha_order:\n",
    "    output_file.write(line)\n",
    "    \n",
    "output_file.close()"
   ]
  },
  {
   "cell_type": "code",
   "execution_count": 52,
   "metadata": {
    "collapsed": false
   },
   "outputs": [],
   "source": [
    "def edit_file(filename):\n",
    "    from collections import defaultdict\n",
    "    with open(filename, \"r\") as ff:\n",
    "        canid_recs = ff.readlines()[1:]\n",
    "    \n",
    "\n",
    "    species_ranges = defaultdict(list)\n",
    "\n",
    "\n",
    "    for line in canid_recs:\n",
    "        line = line.replace('\"','')\n",
    "        species = line.split(\",\")[5]\n",
    "        if len(species.split(\" \")) > 1:\n",
    "            minage = float(line.split(',')[10])\n",
    "            maxage = float(line.split(',')[11])\n",
    "            mean_age = (minage + maxage)/2\n",
    "    \n",
    "    #add species as keys and mean ages as elements to the list of ages\n",
    "            species_ranges[species].append(mean_age)\n",
    "    \n",
    "    #alpha_dictionary = sorted(species_ranges.items()) \n",
    "    #ordered_dictionary = order_dictionary(species_ranges)\n",
    "    return species_ranges\n",
    "    \n",
    "    #print(mean_age)\n",
    "    #print(species_ranges)\n"
   ]
  },
  {
   "cell_type": "code",
   "execution_count": 53,
   "metadata": {
    "collapsed": false
   },
   "outputs": [],
   "source": [
    "#edit_file(\"/home/eeb177-student/Desktop/eeb-177/class-assignments/canids/clean_canid.csv\")"
   ]
  },
  {
   "cell_type": "markdown",
   "metadata": {},
   "source": [
    "# Function #2 -- Canids"
   ]
  },
  {
   "cell_type": "code",
   "execution_count": 54,
   "metadata": {
    "collapsed": false
   },
   "outputs": [],
   "source": [
    "def making_output(dictionary, outfile):\n",
    "    output = open(outfile, \"w\")\n",
    "    for key in sorted(dictionary.keys()):\n",
    "        ages = dictionary[key]\n",
    "        minage = min(ages)\n",
    "        maxage = max(ages)\n",
    "        genus = key.split(\" \")[0]\n",
    "        species = key\n",
    "    #print(genus, key, minage, maxage)\n",
    "        outline = \"{},{},{},{}\\n\".format(genus, species, minage, maxage)\n",
    "        output.write(outline)\n",
    "    output.close()"
   ]
  },
  {
   "cell_type": "code",
   "execution_count": 55,
   "metadata": {
    "collapsed": false,
    "scrolled": true
   },
   "outputs": [],
   "source": [
    "new_dictionary = edit_file(\"alphabetized_canids.csv\")\n",
    "#new_dictionary"
   ]
  },
  {
   "cell_type": "code",
   "execution_count": 56,
   "metadata": {
    "collapsed": false
   },
   "outputs": [],
   "source": [
    "making_output(new_dictionary, \"canids_summary.csv\")"
   ]
  },
  {
   "cell_type": "markdown",
   "metadata": {},
   "source": [
    "# Function #3 -- Canids"
   ]
  },
  {
   "cell_type": "code",
   "execution_count": 57,
   "metadata": {
    "collapsed": true
   },
   "outputs": [],
   "source": [
    "\n",
    "with open(\"canids_summary.csv\", \"r\") as aa:\n",
    "    canid_ranges = aa.readlines()\n",
    "rangedict = {}\n",
    "for line in canid_ranges:\n",
    "    element = line.split(\",\")\n",
    "    species = element[1]\n",
    "    fossil_range = float(element[3])-float(element[2])\n",
    "    rangedict[species] = fossil_range"
   ]
  },
  {
   "cell_type": "code",
   "execution_count": 58,
   "metadata": {
    "collapsed": false,
    "scrolled": true
   },
   "outputs": [],
   "source": [
    "#rangedict"
   ]
  },
  {
   "cell_type": "code",
   "execution_count": 59,
   "metadata": {
    "collapsed": false
   },
   "outputs": [],
   "source": [
    "def longest_range(dictionary):\n",
    "    longest_species = max(dictionary, key=dictionary.get)\n",
    "    return longest_species\n"
   ]
  },
  {
   "cell_type": "code",
   "execution_count": 60,
   "metadata": {
    "collapsed": false
   },
   "outputs": [
    {
     "data": {
      "text/plain": [
       "'Cormocyon copei'"
      ]
     },
     "execution_count": 60,
     "metadata": {},
     "output_type": "execute_result"
    }
   ],
   "source": [
    "longest_range(rangedict)"
   ]
  },
  {
   "cell_type": "markdown",
   "metadata": {},
   "source": [
    "# Function #1 -- mustelidae"
   ]
  },
  {
   "cell_type": "code",
   "execution_count": 61,
   "metadata": {
    "collapsed": true
   },
   "outputs": [],
   "source": [
    "def alpha_dictionary_mustelidae(entry):\n",
    "    species = entry.split(\",\")[5]\n",
    "    return species\n",
    "    "
   ]
  },
  {
   "cell_type": "code",
   "execution_count": null,
   "metadata": {
    "collapsed": true
   },
   "outputs": [],
   "source": []
  },
  {
   "cell_type": "code",
   "execution_count": 62,
   "metadata": {
    "collapsed": false
   },
   "outputs": [],
   "source": [
    "with open(\"formatted_must_hw.csv\", \"r\") as bb:\n",
    "    mustelidae_recs = bb.readlines()[1:]\n",
    "alpha_order_mustelidae = sorted(mustelidae_recs, key = alpha_dictionary_mustelidae)\n",
    "\n",
    "output_file_mustelidae = open(\"alphabetized_mustelidae.csv\", \"w\")\n",
    "for line in alpha_order_mustelidae:\n",
    "    output_file_mustelidae.write(line)\n",
    "    \n",
    "output_file_mustelidae.close()"
   ]
  },
  {
   "cell_type": "code",
   "execution_count": 63,
   "metadata": {
    "collapsed": true
   },
   "outputs": [],
   "source": [
    "def edit_file_mustelidae(filename):\n",
    "    from collections import defaultdict\n",
    "    with open(filename, \"r\") as nn:\n",
    "        mustelidae_recs = nn.readlines()[1:]\n",
    "    \n",
    "\n",
    "    species_ranges_mustelidae = defaultdict(list)\n",
    "\n",
    "\n",
    "    for line in mustelidae_recs:\n",
    "        line = line.replace('\"','')\n",
    "        species = line.split(\",\")[5]\n",
    "        if len(species.split(\" \")) > 1:\n",
    "            minage = float(line.split(',')[10])\n",
    "            maxage = float(line.split(',')[11])\n",
    "            mean_age = (minage + maxage)/2\n",
    "    \n",
    "    #add species as keys and mean ages as elements to the list of ages\n",
    "            species_ranges_mustelidae[species].append(mean_age)\n",
    "    \n",
    "    #alpha_dictionary = sorted(species_ranges.items()) \n",
    "    #ordered_dictionary = order_dictionary(species_ranges)\n",
    "    return species_ranges_mustelidae"
   ]
  },
  {
   "cell_type": "code",
   "execution_count": 64,
   "metadata": {
    "collapsed": false,
    "scrolled": true
   },
   "outputs": [],
   "source": [
    "\n",
    "#new_mustelidae_dictionary"
   ]
  },
  {
   "cell_type": "markdown",
   "metadata": {},
   "source": [
    "# Function #2 -- mustelidae"
   ]
  },
  {
   "cell_type": "code",
   "execution_count": 65,
   "metadata": {
    "collapsed": true
   },
   "outputs": [],
   "source": [
    "def making_output_mustelidae(dictionary, outfile):\n",
    "    output = open(outfile, \"w\")\n",
    "    for key in sorted(dictionary.keys()):\n",
    "        ages = dictionary[key]\n",
    "        minage = min(ages)\n",
    "        maxage = max(ages)\n",
    "        genus = key.split(\" \")[0]\n",
    "        species = key\n",
    "    #print(genus, key, minage, maxage)\n",
    "        outline = \"{},{},{},{}\\n\".format(genus, species, minage, maxage)\n",
    "        output.write(outline)\n",
    "    output.close()"
   ]
  },
  {
   "cell_type": "code",
   "execution_count": 66,
   "metadata": {
    "collapsed": true
   },
   "outputs": [],
   "source": [
    "new_mustelidae_dictionary = edit_file_mustelidae(\"alphabetized_mustelidae.csv\")"
   ]
  },
  {
   "cell_type": "code",
   "execution_count": 67,
   "metadata": {
    "collapsed": true
   },
   "outputs": [],
   "source": [
    "making_output_mustelidae(new_mustelidae_dictionary, \"mustelidae_summary.csv\")"
   ]
  },
  {
   "cell_type": "markdown",
   "metadata": {},
   "source": [
    "# Function #3 -- mustelidae"
   ]
  },
  {
   "cell_type": "code",
   "execution_count": 71,
   "metadata": {
    "collapsed": false
   },
   "outputs": [],
   "source": [
    "with open(\"mustelidae_summary.csv\", \"r\") as mm:\n",
    "    mustelidae_ranges = mm.readlines()\n",
    "rangedict_mustelidae = {}\n",
    "for line in mustelidae_ranges:\n",
    "    mustelidae_element = line.split(\",\")\n",
    "    mustelidae_species = mustelidae_element[1]\n",
    "    mustelidae_fossil_range = float(mustelidae_element[3])-float(mustelidae_element[2])\n",
    "    rangedict_mustelidae[mustelidae_species] = mustelidae_fossil_range"
   ]
  },
  {
   "cell_type": "code",
   "execution_count": 74,
   "metadata": {
    "collapsed": true
   },
   "outputs": [
    {
     "data": {
      "text/plain": [
       "{'Algarolutra majori': 0.0,\n",
       " 'Amblonyx cinerea': 0.0,\n",
       " 'Aonyx capensis': 3.95465,\n",
       " 'Arctomeles dimolodontus': 0.0,\n",
       " 'Arctomeles sotnikovae': 0.0,\n",
       " 'Arctonyx collaris': 1.61565,\n",
       " 'Arikarictis chapini': 3.0,\n",
       " 'Baranogale helbingi': 1.6560000000000006,\n",
       " 'Brachyopsigale dubius': 4.25,\n",
       " 'Brachyprotoma obtusata': 0.9870000000000001,\n",
       " 'Brachypsalis hyaenoides': 0.0,\n",
       " 'Brachypsalis matutinus': 0.0,\n",
       " 'Brachypsalis modicus': 0.6035000000000004,\n",
       " 'Brachypsalis obliquidens': 3.414999999999999,\n",
       " 'Brachypsalis pachycephalus': 0.6035000000000004,\n",
       " 'Brevimalictis chikasha': 0.0,\n",
       " 'Buisnictis breviramus': 0.0,\n",
       " 'Buisnictis burrowsi': 0.0,\n",
       " 'Buisnictis metabatos': 0.0,\n",
       " 'Buisnictis schoffi': 4.25,\n",
       " 'Cernictis hesperus': 0.0,\n",
       " 'Cernictis repenningi': 0.0,\n",
       " 'Chamitaxus avitus': 0.0,\n",
       " 'Conepatus leuconotus': 1.2309999999999999,\n",
       " 'Conepatus robustus': 0.0,\n",
       " 'Conepatus sanmiguelensis': 6.581499999999999,\n",
       " 'Conepatus semistriatus': 0.05715,\n",
       " 'Conepatus suffocans': 0.0,\n",
       " 'Craterogale simus': 0.0,\n",
       " 'Cyrnaonyx antiqua': 0.0,\n",
       " 'Dinogale siouxensis': 0.0,\n",
       " 'Eira barbara': 0.05715,\n",
       " 'Enhydra lutris': 0.15015,\n",
       " 'Enhydra macrodonta': 0.894,\n",
       " 'Enhydra reevei': 0.00649999999999995,\n",
       " 'Enhydriodon africanus': 9.715,\n",
       " 'Enhydriodon dikikae': 0.0,\n",
       " 'Enhydriodon ekecaman': 0.5059999999999998,\n",
       " 'Enhydriodon falconeri': 4.510000000000002,\n",
       " 'Enhydriodon sivalensis': 0.8664999999999998,\n",
       " 'Enhydritherium terraenovae': 9.715,\n",
       " 'Eomellivora wimani': 4.9334999999999996,\n",
       " 'Ferinestrix vorax': 0.0,\n",
       " 'Franconictis vireti': 4.515000000000001,\n",
       " 'Galictis vittata': 0.0,\n",
       " 'Gulo gulo': 1.6215000000000002,\n",
       " 'Hoplictis grangerensis': 2.2315000000000005,\n",
       " 'Ictonyx striatus': 1.294,\n",
       " 'Isolalutra cretensis': 0.0,\n",
       " 'Legionarictis fortidens': 0.0,\n",
       " 'Leptarctus ancipidens': 3.414999999999999,\n",
       " 'Leptarctus martini': 0.0,\n",
       " 'Leptarctus mummorum': 0.0,\n",
       " 'Leptarctus oregonensis': 4.0184999999999995,\n",
       " 'Leptarctus primus': 0.6035000000000004,\n",
       " 'Leptarctus supremus': 0.0,\n",
       " 'Leptarctus webbi': 0.0,\n",
       " 'Leptarctus woodburnei': 6.581499999999999,\n",
       " 'Leptarctus wortmani': 1.5149999999999988,\n",
       " 'Limnonyx pontica': 3.6834999999999987,\n",
       " 'Lontra canadensis': 3.34415,\n",
       " 'Lontra longicaudis': 0.05715,\n",
       " 'Lontra longicaudis annectens': 0.0,\n",
       " 'Lontra longicaudis longicaudis': 0.0,\n",
       " 'Lutra affinis': 3.0559999999999996,\n",
       " 'Lutra bravardi': 0.6970000000000001,\n",
       " 'Lutra bressana': 0.0,\n",
       " 'Lutra castiglionis': 0.0,\n",
       " 'Lutra fatimazohrae': 0.0,\n",
       " 'Lutra lutra': 1.6786500000000002,\n",
       " 'Lutra maculicollis': 0.005849999999999911,\n",
       " 'Lutra simplicidens': 1.231,\n",
       " 'Lutra trinacriae': 0.0,\n",
       " 'Lutravus halli': 4.349999999999999,\n",
       " 'Martes (Tomictis) gazini': 0.0,\n",
       " 'Martes campestris': 0.0,\n",
       " 'Martes foina': 0.38465000000000005,\n",
       " 'Martes foxi': 0.0,\n",
       " 'Martes khelifensis': 0.0,\n",
       " 'Martes kinseyi': 0.0,\n",
       " 'Martes martes': 1.6786500000000002,\n",
       " 'Martes parviloba': 0.0,\n",
       " 'Martes stirtoni': 0.0,\n",
       " 'Martes zibellina': 0.0,\n",
       " 'Martinogale alveodens': 0.0,\n",
       " 'Martinogale chisoensis': 0.0,\n",
       " 'Martinogale faulli': 0.0,\n",
       " 'Matanomictis maniyarensis': 0.0,\n",
       " 'Megalenhydris barbaricina': 0.0,\n",
       " 'Megalictis ferox': 0.0,\n",
       " 'Megalictis frazieri': 0.0,\n",
       " 'Megalictis petersoni': 0.0,\n",
       " 'Meles iberica': 0.0,\n",
       " 'Meles meles': 1.6786500000000002,\n",
       " 'Mellalictis mellalensis': 0.0,\n",
       " 'Mellivora capensis': 12.80315,\n",
       " 'Mellivora punjabiensis': 1.8229999999999995,\n",
       " 'Miomustela madisonae': 0.0,\n",
       " 'Mionictis angustidens': 0.0,\n",
       " 'Mionictis artenensis': 0.0,\n",
       " 'Mionictis dubia': 4.362,\n",
       " 'Mionictis elegans': 0.0,\n",
       " 'Mionictis incertus': 0.0,\n",
       " 'Mionictis letifer': 0.0,\n",
       " 'Mionictis pristinus': 2.835000000000001,\n",
       " 'Mustela altaica': 0.0,\n",
       " 'Mustela americana': 1.294,\n",
       " 'Mustela erminea': 1.0441500000000001,\n",
       " 'Mustela eversmannii': 0.8463499999999999,\n",
       " 'Mustela frenata': 3.34415,\n",
       " 'Mustela jacksoni': 0.0,\n",
       " 'Mustela meltoni': 0.0,\n",
       " 'Mustela nigripes': 0.9870000000000001,\n",
       " 'Mustela nivalis': 1.2881500000000001,\n",
       " 'Mustela putorius': 2.6035000000000004,\n",
       " 'Mustela reliquus': 0.0,\n",
       " 'Mustela rexroadensis': 4.25,\n",
       " 'Mustela sibirica': 0.0,\n",
       " 'Mustela vison': 1.0441500000000001,\n",
       " 'Mustelavus priscus': 0.0,\n",
       " 'Namibictis senuti': 0.0,\n",
       " 'Negodiaetictis rugatrulleum': 0.0,\n",
       " 'Nesolutra euxena': 0.0,\n",
       " 'Oligobunis floridanus': 0.0,\n",
       " 'Osmotherium spelaeum': 0.0,\n",
       " 'Paludolutra campanii': 0.0,\n",
       " 'Paludolutra lluecai': 3.0559999999999996,\n",
       " 'Paludolutra maremmana': 0.0,\n",
       " 'Paralutra garganensis': 0.0,\n",
       " 'Paralutra jaegeri': 0.0,\n",
       " 'Paralutra lorteti': 0.0,\n",
       " 'Pekania diluviana': 0.0,\n",
       " 'Pekania occulta': 0.0,\n",
       " 'Pekania pennanti': 1.23685,\n",
       " 'Plesictis mayri': 1.5150000000000006,\n",
       " 'Plesiogulo lindsayi': 0.0,\n",
       " 'Plesiogulo marshalli': 0.0,\n",
       " 'Pliogale furlongi': 0.0,\n",
       " 'Pliogale manka': 0.0,\n",
       " 'Plionictis oaxacaensis': 0.0,\n",
       " 'Plionictis ogygia': 6.25,\n",
       " 'Plionictis oregonensis': 0.0,\n",
       " 'Pliotaxidea garberi': 0.0,\n",
       " 'Pliotaxidea nevadensis': 6.581499999999999,\n",
       " 'Potamotherium miocenicum': 4.059999999999999,\n",
       " 'Potamotherium vallentoni': 3.0,\n",
       " 'Promartes darbyi': 0.0,\n",
       " 'Promartes gemmarosae': 0.0,\n",
       " 'Promartes lepidus': 7.415000000000003,\n",
       " 'Promartes olcotti': 2.9349999999999987,\n",
       " 'Promartes vantasselensis': 0.0,\n",
       " 'Pteronura brasiliensis': 1.2881500000000001,\n",
       " 'Puijila darwini': 0.0,\n",
       " 'Pyctis inamatus': 0.0,\n",
       " 'Sardolutra ichnusae': 0.0,\n",
       " 'Satherium piscinarium': 2.3,\n",
       " 'Siamogale melilutra': 0.0,\n",
       " 'Sivaonyx gandakasensis': 0.0,\n",
       " 'Sivaonyx hendeyi': 0.0,\n",
       " 'Sivaonyx hessicus': 0.0,\n",
       " 'Sivaonyx kamuhangirei': 0.5059999999999998,\n",
       " 'Sivaonyx senutae': 0.0,\n",
       " 'Sivaonyx soriae': 0.0,\n",
       " 'Sminthosinis bowleri': 0.0,\n",
       " 'Sthenictis bellus': 0.0,\n",
       " 'Sthenictis dolichops': 3.414999999999999,\n",
       " 'Sthenictis junturensis': 0.0,\n",
       " 'Sthenictis lacota': 0.0,\n",
       " 'Taxidea mexicana': 0.0,\n",
       " 'Taxidea taxus': 3.287,\n",
       " 'Taxidea taxus marylandica': 0.0,\n",
       " 'Tisisthenes parvus': 0.0,\n",
       " 'Trigonictis cookii': 2.3,\n",
       " 'Trigonictis macrodon': 2.3,\n",
       " 'Trocharion albanense': 4.059999999999999,\n",
       " 'Tyrrhenolutra helbingi': 0.0,\n",
       " 'Vishnuonyx chinjiensis': 0.0,\n",
       " 'Zodiolestes daimonelixensis': 0.0,\n",
       " 'Zodiolestes freundi': 0.0}"
      ]
     },
     "execution_count": 74,
     "metadata": {},
     "output_type": "execute_result"
    }
   ],
   "source": [
    "rangedict_mustelidae"
   ]
  },
  {
   "cell_type": "code",
   "execution_count": 73,
   "metadata": {
    "collapsed": false
   },
   "outputs": [
    {
     "data": {
      "text/plain": [
       "'Mellivora capensis'"
      ]
     },
     "execution_count": 73,
     "metadata": {},
     "output_type": "execute_result"
    }
   ],
   "source": [
    "longest_range(rangedict_mustelidae)"
   ]
  },
  {
   "cell_type": "markdown",
   "metadata": {},
   "source": []
  },
  {
   "cell_type": "code",
   "execution_count": null,
   "metadata": {
    "collapsed": true
   },
   "outputs": [],
   "source": []
  }
 ],
 "metadata": {
  "anaconda-cloud": {},
  "kernelspec": {
   "display_name": "Python [conda root]",
   "language": "python",
   "name": "conda-root-py"
  },
  "language_info": {
   "codemirror_mode": {
    "name": "ipython",
    "version": 3
   },
   "file_extension": ".py",
   "mimetype": "text/x-python",
   "name": "python",
   "nbconvert_exporter": "python",
   "pygments_lexer": "ipython3",
   "version": "3.5.2"
  }
 },
 "nbformat": 4,
 "nbformat_minor": 2
}
