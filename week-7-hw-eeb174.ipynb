{
 "cells": [
  {
   "cell_type": "markdown",
   "metadata": {},
   "source": [
    "\n",
    "\n",
    "# Scarus guacamaia\n",
    "\n",
    "# Common name: Rainbow Parrotfish\n",
    "\n",
    "\n"
   ]
  },
  {
   "cell_type": "code",
   "execution_count": 19,
   "metadata": {
    "collapsed": false
   },
   "outputs": [
    {
     "name": "stdout",
     "output_type": "stream",
     "text": [
      "body shape: fusiform / normal\n",
      "importance: minor commercial\n",
      "comments: Adults inhabit lagoon and seaward reefs, usually in areas with mixed coral, sand, and rubble (Ref. 9710).  Feed mainly on benthic, hard-shelled invertebrates, including mollusks, crustaceans and sea urchins (Ref. 5374).  Young common on silty reefs, usually along edges with algae-rubble and sand (Ref. 48636).  Oviparous, distinct pairing during breeding (Ref. 205).\n"
     ]
    }
   ],
   "source": [
    "import urllib.request\n",
    "import json\n",
    "\n",
    "api_url = \"https://fishbase.ropensci.org/species/?genus=Cheilinus&species=fasciatus\"\n",
    "\n",
    "raw_json = urllib.request.urlopen(api_url)\n",
    "decoded_json = raw_json.read().decode('utf-8')\n",
    "parsed_json = json.loads(decoded_json) ## we use the json.load method directly\n",
    "raw_json.close()\n",
    "\n",
    "print(\"body shape: \" + parsed_json[\"data\"][0][\"BodyShapeI\"])\n",
    "print(\"importance: \" + parsed_json[\"data\"][0][\"Importance\"])\n",
    "print(\"comments: \" + parsed_json[\"data\"][0][\"Comments\"])"
   ]
  },
  {
   "cell_type": "markdown",
   "metadata": {},
   "source": [
    "# Oncoryhynchus gorbuscha\n",
    "\n",
    "# Common name: Pink Salmon"
   ]
  },
  {
   "cell_type": "code",
   "execution_count": 21,
   "metadata": {
    "collapsed": false
   },
   "outputs": [
    {
     "name": "stdout",
     "output_type": "stream",
     "text": [
      "body shape: fusiform / normal\n",
      "importance: highly commercial\n",
      "comments: An anadromous species which inhabits ocean and coastal streams (Ref. 5723).  Epipelagic (Ref. 58426). Pelagic at the sea.  In freshwater, lives in montane and piedmont rivers with moderate to fast current and gravel bottom. Spawns in riffles or at head of riffles in shallow water with current up to 1.5 m/s, and clean coarse gravel (Ref. 59043).  Spends 18 months at sea after which spawning migration to the natal river or stream occurs; but because the species is less certain of its homing and there is a certain degree of wandering, streams as much as 640 km from natal streams may be used (Ref. 1998, 27547).  Upon emerging from the gravel, fry immediately move downstream and remain inshore for a few months before going out to sea.  Fry may feed on nymphal and larval insects while in fresh water, but may not feed at all.  In the sea, young feed on copepods and larvacean tunicates, its diet shifting to amphipods, euphausiids and fishes as the fish grows (Ref. 27547).  Other food include ostracods, decapod larvae, cirripeds, tunicates, dipterous insects (Ref. 1998, 27547).  Fry may be preyed upon by birds and mammals while adults by marine mammals and large fish (Ref. 1998).  Mostly sold canned (Ref. 1998) but also utilized fresh, smoked, and frozen; also valued for caviar, especially in Japan; eaten steamed, fried, broiled, boiled, microwaved, and baked (Ref. 9988).  The smallest of the true salmon (Ref. 12218).  The Alaska Salmon fishery of this species has been certified by the Marine Stewardship Council (<a>http://www.msc.org/</a>) as well-managed and sustainable (<a>http://www.msc.org/html/content_485.htm).</a>\n"
     ]
    }
   ],
   "source": [
    "import urllib.request\n",
    "import json\n",
    "\n",
    "api_url = \"https://fishbase.ropensci.org/species/?genus=Oncorhynchus&species=gorbuscha\"\n",
    "\n",
    "raw_json = urllib.request.urlopen(api_url)\n",
    "decoded_json = raw_json.read().decode('utf-8')\n",
    "parsed_json = json.loads(decoded_json) ## we use the json.load method directly\n",
    "raw_json.close()\n",
    "\n",
    "print(\"body shape: \" + parsed_json[\"data\"][0][\"BodyShapeI\"])\n",
    "print(\"importance: \" + parsed_json[\"data\"][0][\"Importance\"])\n",
    "print(\"comments: \" + parsed_json[\"data\"][0][\"Comments\"])"
   ]
  },
  {
   "cell_type": "code",
   "execution_count": null,
   "metadata": {
    "collapsed": true
   },
   "outputs": [],
   "source": []
  }
 ],
 "metadata": {
  "anaconda-cloud": {},
  "kernelspec": {
   "display_name": "Python [conda root]",
   "language": "python",
   "name": "conda-root-py"
  },
  "language_info": {
   "codemirror_mode": {
    "name": "ipython",
    "version": 3
   },
   "file_extension": ".py",
   "mimetype": "text/x-python",
   "name": "python",
   "nbconvert_exporter": "python",
   "pygments_lexer": "ipython3",
   "version": "3.5.2"
  }
 },
 "nbformat": 4,
 "nbformat_minor": 2
}
